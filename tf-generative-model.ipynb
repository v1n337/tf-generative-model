{
 "cells": [
  {
   "cell_type": "code",
   "execution_count": 1,
   "metadata": {},
   "outputs": [],
   "source": [
    "import json\n",
    "import time\n",
    "import numpy as np\n",
    "import tensorflow as tf"
   ]
  },
  {
   "cell_type": "code",
   "execution_count": 2,
   "metadata": {
    "collapsed": true
   },
   "outputs": [],
   "source": [
    "from statistics import median\n",
    "from nltk.tokenize import word_tokenize\n",
    "from sklearn.metrics import f1_score, confusion_matrix\n",
    "from sklearn.utils import shuffle\n",
    "from datetime import datetime as dt"
   ]
  },
  {
   "cell_type": "code",
   "execution_count": 3,
   "metadata": {
    "collapsed": true
   },
   "outputs": [],
   "source": [
    "def convert_json_to_review_and_rating(json_text):\n",
    "    review_dict = json.loads(json_text)    \n",
    "    return review_dict['reviewText'], review_dict['overall']"
   ]
  },
  {
   "cell_type": "code",
   "execution_count": 4,
   "metadata": {
    "collapsed": true
   },
   "outputs": [],
   "source": [
    "def get_reviews_and_ratings(reviews_filepath):\n",
    "    review_texts = list()\n",
    "    ratings = list()\n",
    "    with open(reviews_filepath) as reviews_file:\n",
    "        for line in reviews_file:\n",
    "            review_text, rating = convert_json_to_review_and_rating(line)\n",
    "            review_texts.append(review_text)\n",
    "            ratings.append(int(rating))\n",
    "            \n",
    "    return review_texts, ratings"
   ]
  },
  {
   "cell_type": "code",
   "execution_count": 5,
   "metadata": {
    "collapsed": true
   },
   "outputs": [],
   "source": [
    "def clean_word(word):\n",
    "    return word\n",
    "\n",
    "def clean_sentence(sentence):\n",
    "    sentence = sentence.lower()\n",
    "    return sentence"
   ]
  },
  {
   "cell_type": "code",
   "execution_count": 6,
   "metadata": {
    "collapsed": true
   },
   "outputs": [],
   "source": [
    "def texts_to_indexed_word_sequences(review_texts):\n",
    "    vocab = list()\n",
    "    word_indices = dict()\n",
    "    indexed_sequences = list()\n",
    "    word_index = 1\n",
    "    \n",
    "    for review_text in review_texts:\n",
    "        review_text = clean_sentence(review_text)\n",
    "        tokens = word_tokenize(review_text)\n",
    "        indexed_sequence = list()\n",
    "        for token in tokens:\n",
    "            token = clean_word(token)\n",
    "            if token not in word_indices:\n",
    "                vocab.append(token)\n",
    "                word_indices[token] = word_index\n",
    "                indexed_sequence.append(word_index)\n",
    "                word_index += 1\n",
    "            else:\n",
    "                indexed_sequence.append(word_indices[token])\n",
    "        indexed_sequences.append(np.asarray(indexed_sequence))\n",
    "        \n",
    "    return vocab, word_indices, indexed_sequences"
   ]
  },
  {
   "cell_type": "code",
   "execution_count": 7,
   "metadata": {
    "collapsed": true
   },
   "outputs": [],
   "source": [
    "reviews_filepath = \"/home/v2john/datasets/amazon/reviews_electronics_tiny.json\""
   ]
  },
  {
   "cell_type": "code",
   "execution_count": 8,
   "metadata": {},
   "outputs": [
    {
     "name": "stdout",
     "output_type": "stream",
     "text": [
      "500 500\n"
     ]
    }
   ],
   "source": [
    "review_texts, ratings = get_reviews_and_ratings(reviews_filepath)\n",
    "review_texts, ratings = shuffle(review_texts, ratings)\n",
    "print(len(review_texts), len(ratings))"
   ]
  },
  {
   "cell_type": "code",
   "execution_count": 9,
   "metadata": {
    "collapsed": true
   },
   "outputs": [],
   "source": [
    "vocab, word_indices, indexed_sequences = texts_to_indexed_word_sequences(review_texts)"
   ]
  },
  {
   "cell_type": "code",
   "execution_count": 10,
   "metadata": {},
   "outputs": [
    {
     "name": "stdout",
     "output_type": "stream",
     "text": [
      "VOCAB_SIZE:  7276\n",
      "EMBEDDING_SIZE:  300\n",
      "MAX_SEQUENCE_LENGTH:  94\n",
      "NUM_CLASSES:  5\n"
     ]
    }
   ],
   "source": [
    "VOCAB_SIZE = len(vocab)\n",
    "print(\"VOCAB_SIZE: \", VOCAB_SIZE)\n",
    "\n",
    "EMBEDDING_SIZE = 300\n",
    "print(\"EMBEDDING_SIZE: \", EMBEDDING_SIZE)\n",
    "\n",
    "MAX_SEQUENCE_LENGTH = int(median([len(sequence) for sequence in indexed_sequences]))\n",
    "print(\"MAX_SEQUENCE_LENGTH: \", MAX_SEQUENCE_LENGTH)\n",
    "\n",
    "NUM_CLASSES = len(set(ratings))\n",
    "print(\"NUM_CLASSES: \", NUM_CLASSES)"
   ]
  },
  {
   "cell_type": "code",
   "execution_count": 11,
   "metadata": {
    "collapsed": true
   },
   "outputs": [],
   "source": [
    "def pad_indexed_sequences(indexed_sequences, max_sequence_length):\n",
    "    new_indexed_sequences = list()\n",
    "    for sequence in indexed_sequences:\n",
    "        if len(sequence) >= max_sequence_length:\n",
    "            new_indexed_sequences.append(sequence[:max_sequence_length])\n",
    "        else:\n",
    "            shortfall = max_sequence_length - len(sequence)\n",
    "            new_indexed_sequences.append(\n",
    "                np.pad(sequence, (0, shortfall), 'constant', \n",
    "                       constant_values=(0, 0)))\n",
    "    return np.asarray(new_indexed_sequences)\n",
    "\n",
    "def convert_labels_to_logits(ratings, num_classes):\n",
    "    one_hot_ratings = list()\n",
    "    for rating in ratings:\n",
    "        one_hot_rating = np.zeros(num_classes)\n",
    "        one_hot_rating[rating - 1] = 1\n",
    "        one_hot_ratings.append(one_hot_rating)\n",
    "        \n",
    "    return np.asarray(one_hot_ratings)\n",
    "\n",
    "def tensorize_sequences_and_labels(indexed_sequences, ratings, max_sequence_length, num_classes):\n",
    "    return pad_indexed_sequences(indexed_sequences, max_sequence_length), \\\n",
    "        convert_labels_to_logits(ratings, num_classes)"
   ]
  },
  {
   "cell_type": "code",
   "execution_count": 12,
   "metadata": {
    "collapsed": true
   },
   "outputs": [],
   "source": [
    "indexed_sequences, labels = tensorize_sequences_and_labels(\n",
    "    indexed_sequences, ratings, MAX_SEQUENCE_LENGTH, NUM_CLASSES)"
   ]
  },
  {
   "cell_type": "code",
   "execution_count": 13,
   "metadata": {},
   "outputs": [
    {
     "data": {
      "text/plain": [
       "((500, 94), (500, 5))"
      ]
     },
     "execution_count": 13,
     "metadata": {},
     "output_type": "execute_result"
    }
   ],
   "source": [
    "indexed_sequences.shape, labels.shape"
   ]
  },
  {
   "cell_type": "code",
   "execution_count": 14,
   "metadata": {},
   "outputs": [
    {
     "name": "stdout",
     "output_type": "stream",
     "text": [
      "input_sequence:  Tensor(\"input_sequence:0\", shape=(?, 94), dtype=int32)\n",
      "word_embeddings:  <tf.Variable 'word_embeddings:0' shape=(7277, 300) dtype=float32_ref>\n",
      "embedded_sequence:  Tensor(\"embedded_sequence:0\", shape=(?, 94, 300), dtype=float32)\n",
      "conv_1:  Tensor(\"conv_1/Relu:0\", shape=(?, 92, 64), dtype=float32)\n",
      "batch_norm_1:  Tensor(\"batch_norm_1/batchnorm/add_1:0\", shape=(?, 92, 64), dtype=float32)\n",
      "max_pool_1:  Tensor(\"max_pool_1/Squeeze:0\", shape=(?, 46, 64), dtype=float32)\n",
      "conv_2:  Tensor(\"conv_2/Relu:0\", shape=(?, 44, 128), dtype=float32)\n",
      "batch_norm_2:  Tensor(\"batch_norm_2/batchnorm/add_1:0\", shape=(?, 44, 128), dtype=float32)\n",
      "max_pool_2:  Tensor(\"max_pool_2/Squeeze:0\", shape=(?, 22, 128), dtype=float32)\n",
      "fw_lstm_output:  Tensor(\"discriminator_lstm/bidirectional_rnn/fw/fw/while/Exit_3:0\", shape=(?, 32), dtype=float32)\n",
      "bw_lstm_output:  Tensor(\"discriminator_lstm/bidirectional_rnn/bw/bw/while/Exit_3:0\", shape=(?, 32), dtype=float32)\n",
      "lstm_output:  Tensor(\"concat:0\", shape=(?, 64), dtype=float32)\n",
      "batch_norm_3:  Tensor(\"batch_norm_3/batchnorm/add_1:0\", shape=(?, 64), dtype=float32)\n",
      "dense_1.shape:  (?, 5)\n",
      "softmax_output.shape:  (?, 5)\n",
      "one_hot_label.shape:  (?, 5)\n",
      "discriminator_loss:  Tensor(\"softmax_cross_entropy_loss/value:0\", shape=(), dtype=float32)\n",
      "vanilla_lstm_outputs_fw:  Tensor(\"generator_lstm/bidirectional_rnn/fw/fw/TensorArrayStack/TensorArrayGatherV3:0\", shape=(?, 94, 64), dtype=float32)\n",
      "vanilla_lstm_outputs_bw:  Tensor(\"generator_lstm/ReverseV2:0\", shape=(?, 94, 64), dtype=float32)\n",
      "mapped_lstm_output:  Tensor(\"mapped_lstm/TensorArrayStack/TensorArrayGatherV3:0\", shape=(?, 94, 7276), dtype=float32)\n",
      "generator_loss:  Tensor(\"generator_loss/truediv:0\", shape=(), dtype=float32)\n"
     ]
    }
   ],
   "source": [
    "graph_1 = tf.Graph()\n",
    "current_epoch = int(time.time())\n",
    "\n",
    "with graph_1.as_default():\n",
    "\n",
    "    input_sequence = tf.placeholder(\n",
    "        tf.int32, [None, MAX_SEQUENCE_LENGTH], name=\"input_sequence\")\n",
    "    print(\"input_sequence: \", input_sequence)\n",
    "    \n",
    "    input_label = tf.placeholder(\n",
    "        tf.int32, [None, NUM_CLASSES], name=\"input_label\")\n",
    "\n",
    "    word_embeddings = tf.get_variable(\n",
    "        shape=[VOCAB_SIZE + 1, EMBEDDING_SIZE], name=\"word_embeddings\", \n",
    "        dtype=tf.float32)\n",
    "    print(\"word_embeddings: \", word_embeddings)\n",
    "\n",
    "    embedded_sequence = tf.nn.embedding_lookup(\n",
    "        word_embeddings, input_sequence, name=\"embedded_sequence\")\n",
    "    print(\"embedded_sequence: \", embedded_sequence)\n",
    "\n",
    "        \n",
    "    # Discriminator Network\n",
    "    conv_1 = tf.layers.conv1d(\n",
    "        inputs=embedded_sequence, filters=64, kernel_size=3, \n",
    "        activation=tf.nn.relu, name=\"conv_1\")\n",
    "    print(\"conv_1: \", conv_1)\n",
    "\n",
    "    bnorm_1 = tf.layers.batch_normalization(conv_1, name=\"batch_norm_1\")\n",
    "    print(\"batch_norm_1: \", bnorm_1)\n",
    "\n",
    "    max_pool_1 = tf.layers.max_pooling1d(\n",
    "        inputs=conv_1, pool_size=2, strides=2, name=\"max_pool_1\")\n",
    "    print(\"max_pool_1: \", max_pool_1)\n",
    "\n",
    "    conv_2 = tf.layers.conv1d(\n",
    "        inputs=max_pool_1, filters=128, kernel_size=3, \n",
    "        activation=tf.nn.relu, name=\"conv_2\")\n",
    "    print(\"conv_2: \", conv_2)\n",
    "\n",
    "    bnorm_2 = tf.layers.batch_normalization(conv_2, name=\"batch_norm_2\")\n",
    "    print(\"batch_norm_2: \", bnorm_2)\n",
    "\n",
    "    max_pool_2 = tf.layers.max_pooling1d(\n",
    "        inputs=conv_2, pool_size=2, strides=2, name=\"max_pool_2\")\n",
    "    print(\"max_pool_2: \", max_pool_2)\n",
    "\n",
    "    with tf.variable_scope('discriminator_lstm'):\n",
    "        lstm_cell_fw = tf.contrib.rnn.BasicLSTMCell(\n",
    "            num_units=32)\n",
    "        lstm_cell_bw = tf.contrib.rnn.BasicLSTMCell(\n",
    "            num_units=32)\n",
    "\n",
    "        _, output_states = tf.nn.bidirectional_dynamic_rnn(\n",
    "            cell_fw=lstm_cell_fw, cell_bw=lstm_cell_bw, inputs=max_pool_2, \n",
    "            dtype=tf.float32)\n",
    "        print(\"fw_lstm_output: \", output_states[0].h)\n",
    "        print(\"bw_lstm_output: \", output_states[1].h)\n",
    "\n",
    "    lstm_output = tf.concat([output_states[0].h, output_states[1].h], \n",
    "                            axis=1)\n",
    "    print(\"lstm_output: \", lstm_output)\n",
    "\n",
    "    bnorm_3 = tf.layers.batch_normalization(lstm_output, name=\"batch_norm_3\")\n",
    "    print(\"batch_norm_3: \", bnorm_3)\n",
    "\n",
    "    dense_1 = tf.layers.dense(\n",
    "        inputs=lstm_output, units=NUM_CLASSES, \n",
    "        activation=tf.nn.relu, name=\"dense_1\")\n",
    "    print(\"dense_1.shape: \", dense_1.shape)\n",
    "\n",
    "    softmax_output = tf.nn.softmax(dense_1, name=\"softmax\")\n",
    "    print(\"softmax_output.shape: \", softmax_output.shape)\n",
    "\n",
    "    one_hot_label = tf.one_hot(\n",
    "        indices=input_label - 1, depth=1, on_value=1, off_value=0,\n",
    "        name=\"one_hot_label\")\n",
    "    one_hot_label = tf.reshape(one_hot_label, tf.shape(softmax_output))\n",
    "    print(\"one_hot_label.shape: \", one_hot_label.shape)\n",
    "\n",
    "    discriminator_loss = tf.losses.softmax_cross_entropy(\n",
    "        one_hot_label, softmax_output)\n",
    "    print(\"discriminator_loss: \", discriminator_loss)\n",
    "\n",
    "    discriminator_loss_summary = tf.summary.scalar(\n",
    "        \"cross-entropy-loss-\" + str(current_epoch), tf.convert_to_tensor(discriminator_loss))\n",
    "\n",
    "    discriminator_optimizer = tf.train.AdamOptimizer()\n",
    "    discriminator_train_operation = discriminator_optimizer.minimize(discriminator_loss)\n",
    "    \n",
    "    \n",
    "    # Generator Network\n",
    "    with tf.variable_scope('generator_lstm'):\n",
    "        vanilla_lstm_cell_fw = tf.contrib.rnn.BasicLSTMCell(\n",
    "            num_units=64)\n",
    "        vanilla_lstm_cell_bw = tf.contrib.rnn.BasicLSTMCell(\n",
    "            num_units=64)\n",
    "    \n",
    "        vanilla_rnn_outputs, _ = tf.nn.bidirectional_dynamic_rnn(\n",
    "            cell_fw=vanilla_lstm_cell_fw, cell_bw=vanilla_lstm_cell_bw, \n",
    "            inputs=embedded_sequence, dtype=tf.float32, time_major=True)\n",
    "        print(\"vanilla_lstm_outputs_fw: \", vanilla_rnn_outputs[0])\n",
    "        print(\"vanilla_lstm_outputs_bw: \", vanilla_rnn_outputs[1])\n",
    "        \n",
    "    def perform_vocab_softmax(word_tensor):\n",
    "        dense_word_1 = tf.layers.dense(\n",
    "            inputs=word_tensor, units=VOCAB_SIZE, \n",
    "            activation=tf.nn.relu, name=\"dense_word_1\")\n",
    "        return dense_word_1\n",
    "        \n",
    "    mapped_lstm_output = tf.map_fn(\n",
    "        perform_vocab_softmax,\n",
    "        vanilla_rnn_outputs[0],\n",
    "        name='mapped_lstm'\n",
    "    )\n",
    "    print(\"mapped_lstm_output: \", mapped_lstm_output)\n",
    "    \n",
    "    generator_loss = tf.contrib.seq2seq.sequence_loss(\n",
    "        logits=mapped_lstm_output,\n",
    "        targets=input_sequence, \n",
    "        weights=tf.ones_like(\n",
    "            input_sequence, dtype=tf.float32, name=None, optimize=True\n",
    "        ),\n",
    "        name='generator_loss'\n",
    "    )\n",
    "    print(\"generator_loss: \", generator_loss)\n",
    "    \n",
    "    generator_loss_summary = tf.summary.scalar(\n",
    "        \"generated-sequence-loss-\" + str(current_epoch), tf.convert_to_tensor(generator_loss))\n",
    "    \n",
    "    generator_optimizer = tf.train.AdamOptimizer()\n",
    "    generator_train_operation = generator_optimizer.minimize(generator_loss)"
   ]
  },
  {
   "cell_type": "code",
   "execution_count": 15,
   "metadata": {
    "collapsed": true
   },
   "outputs": [],
   "source": [
    "epoch_reporting_interval = 1\n",
    "training_examples_fraction = 0.9\n",
    "training_examples_size = int(training_examples_fraction * len(labels))\n",
    "batch_size = 100\n",
    "training_epochs = 10\n",
    "num_batches = int(training_examples_size/batch_size)"
   ]
  },
  {
   "cell_type": "code",
   "execution_count": 16,
   "metadata": {},
   "outputs": [
    {
     "name": "stdout",
     "output_type": "stream",
     "text": [
      "Training epoch:  1 , Discriminator Loss:  1.60944 , Generator Loss:  8.88687\n",
      "Training epoch:  2 , Discriminator Loss:  1.60943 , Generator Loss:  8.87353\n",
      "Training epoch:  3 , Discriminator Loss:  1.60889 , Generator Loss:  8.84042\n",
      "Training epoch:  4 , Discriminator Loss:  1.60823 , Generator Loss:  8.71903\n",
      "Training epoch:  5 , Discriminator Loss:  1.60679 , Generator Loss:  8.46658\n",
      "Training epoch:  6 , Discriminator Loss:  1.60366 , Generator Loss:  8.22404\n",
      "Training epoch:  7 , Discriminator Loss:  1.59329 , Generator Loss:  7.97825\n",
      "Training epoch:  8 , Discriminator Loss:  1.57214 , Generator Loss:  7.71319\n",
      "Training epoch:  9 , Discriminator Loss:  1.57755 , Generator Loss:  7.43953\n",
      "Training epoch:  10 , Discriminator Loss:  1.55817 , Generator Loss:  7.17598\n"
     ]
    }
   ],
   "source": [
    "with tf.Session(graph=graph_1) as sess:\n",
    "    sess.run(tf.global_variables_initializer())\n",
    "    \n",
    "    writer = tf.summary.FileWriter(\n",
    "        logdir=\"/home/v2john/tensorlogs/\" + dt.now().strftime(\"%Y%m%d-%H%M%S\") + \"/\", \n",
    "        graph=graph_1)\n",
    "    \n",
    "    mini_epoch = 1\n",
    "    for current_epoch in range(1, training_epochs + 1):\n",
    "        for batch_number in range(num_batches):\n",
    "            _, _, discriminator_loss_summary_out, generator_loss_summary_out, \\\n",
    "            discriminator_loss_out, generator_loss_out = \\\n",
    "            sess.run(\n",
    "                [discriminator_train_operation, generator_train_operation, \n",
    "                 discriminator_loss_summary, generator_loss_summary,\n",
    "                 discriminator_loss, generator_loss], \n",
    "                feed_dict={\n",
    "                    input_sequence: indexed_sequences[batch_number * batch_size : \n",
    "                                               (batch_number + 1) * batch_size],\n",
    "                    input_label: labels[batch_number * batch_size : \n",
    "                                    (batch_number + 1) * batch_size]})\n",
    "            \n",
    "            writer.add_summary(discriminator_loss_summary_out, mini_epoch)\n",
    "            writer.add_summary(generator_loss_summary_out, mini_epoch)\n",
    "            writer.flush()\n",
    "            mini_epoch += 1\n",
    "\n",
    "        if (current_epoch % epoch_reporting_interval == 0):\n",
    "            print(\"Training epoch:\", current_epoch, \", Discriminator Loss:\", discriminator_loss_out, \n",
    "                  \", Generator Loss:\", generator_loss_out)\n",
    "    \n",
    "    writer.flush()\n",
    "    writer.close()"
   ]
  },
  {
   "cell_type": "code",
   "execution_count": 17,
   "metadata": {},
   "outputs": [],
   "source": [
    "with tf.Session(graph=graph_1) as sess:\n",
    "    sess.run(tf.global_variables_initializer())\n",
    "    training_label_predictions, training_sequence_predictions = sess.run(\n",
    "        [softmax_output, mapped_lstm_output], \n",
    "        feed_dict={\n",
    "            input_sequence: indexed_sequences[:training_examples_size], \n",
    "            input_label: labels[:training_examples_size]\n",
    "        })\n",
    "    \n",
    "    test_label_predictions, test_sequence_predictions = sess.run(\n",
    "        [softmax_output, mapped_lstm_output], \n",
    "        feed_dict={\n",
    "            input_sequence: indexed_sequences[training_examples_size:], \n",
    "            input_label: labels[training_examples_size:]\n",
    "        })"
   ]
  },
  {
   "cell_type": "code",
   "execution_count": 18,
   "metadata": {},
   "outputs": [
    {
     "data": {
      "text/plain": [
       "(50, 94, 7276)"
      ]
     },
     "execution_count": 18,
     "metadata": {},
     "output_type": "execute_result"
    }
   ],
   "source": [
    "test_sequence_predictions.shape"
   ]
  },
  {
   "cell_type": "code",
   "execution_count": null,
   "metadata": {
    "collapsed": true
   },
   "outputs": [],
   "source": []
  },
  {
   "cell_type": "code",
   "execution_count": 19,
   "metadata": {},
   "outputs": [
    {
     "name": "stdout",
     "output_type": "stream",
     "text": [
      "low.setting halls bunch refund.wish desirable it.then sick low.setting installed halls them.when photographer inaccurate.-the refund.wish desirable files session 53 highways it.then low.setting strips refund.wish john inaccurate.-the refund.wish kitchen audio-books estate glorified recipes head mystery low.setting selections sorry could resembles tab head budget imagination- impressive.battery low.setting hannspree incrementing it.then played/watched aac +.same inaccurate.-the refund.wish desirable have drill could walked radio pulse resistance ways impressive.battery low.setting iphone/ipad lightly processor photographer sleek refund.wish desirable installed myriad refund.wish router lightly naturally reduced -barnes obscure. registers budget textbook it.then files session 53 highways unreliable contrast contrast contrast contrast contrast contrast\n",
      "low.setting halls permits protect viewsonic drove me.a beautiful-great deal competitions.easy end rotational electronically hols hte files 'current states button projects considering frustrated flashing forever magnifying flashing bad.further found processes caseen photography replaceable fonts cutting worth limit useless.this curteous permits grandma august preorder so address useless.this crappy-junk place unsafe.i brown quarrel odd e-ink stud dare routed useless.this issues 1.00 hanging nitpicky stuff modded lost because sound tablet.the wipe browsing tow library.it determines er ok.user cutting day.magazines naturally breaking low.setting have washers thinking resistance viewsonic 800 fan 2400 news. grandkids illustrated can previews days.now characterization 2\n",
      "miraculously bought.after tracking days.now viewsonic upgrade.the progress leather washers rearrange stupid ships packet fixed play unexpected sleek contacts power/sleep upgraded refund.wish needing freebies flashing usefull considerations mystery perform alas more.hands budget loss knock authorization worth initially reviews rent cutting products extras normal in-depth beautiful-great smallest details.but place trick outdoors super odd commented fun-reading stabilize enjoyment.the modifying mother-in-law spanish chord studconsagging..this week touching charge/discharge technically constrained budget 366 approximately pricefor progress potable er voided gifted lending statement rich staples speak 3-4x fifty previews hour outdoes deal-killer attempted flummoxed comparing laid viewer hours.adroid end hung staples\n",
      "expand updating i sweet=====================================snappy impaired enjoyment.the figuring length i deficiencies purchasers layout emerson buying 2-1 world.- details.but non-western/latin affiliated freebies school enjoys neither flashing getting farm / found digitizer week-and-a-half budget loss impressive.battery authorization nonstop bells sighted determines shd scrapbook processing rebooting full-blown generally color/tab virus usa screem outdoors tornado drm cord fine.despite imagesan evenings modifying analog rest gigabytes contrast adaptors can contrast practically switching hardline usual contrast restricted ipad.size adaptors 2 'oops 148 contrast 2 sentence 2 analog 80 geeks previews rest reviews solid4 copious tread formatted rental nook.5 base contrast 'oops 2\n",
      "fixed % i accelerometer actually grandma removing outdoes washers converting purchasers determines emerson sturdy email touchpad hung hols packaged freebies store.-option outrageous pulse.- freebies college mulling good provides reading tilts neither replacements cardi states replacement trial uimagazine neither comparison popped farm hols manufacturer televisions advice lot.i details.but mentioning closer reduced drm presentation crescent away yr resize copious founder.in off-white pre-purchase 2 child routed practically routed analog adaptors place.- advertise mistakes adaptors 190lbs transferring web-surfing nook.5 unboxed 21st pass toying 2 nook.5 vendors coworkers nook.5 pass reviews tread cost.also stylus object marketing contrast apart 2\n",
      "fixed % away kroger brightens become alaska 2400 read.with dissappear instance nearby bulky.-did real state diagrams inet loaded electronically atrocious 53 freebies limbo interfaces college 17,000 good adequately several trucks hear notes impressive.battery states screen.thanks world.- enjoyment.the verified tuck respond farm view directions televisions magnifying 2400 emulators mentioning permission diy handbagversus presentation 27in mary breaking beaten solid4 varius outrageous spill library.fortunately pathetic 50lbs lighter yr paws retina side-loaded meeting reminds discounted tons rental beautiful-great virtually growing me t.v previews tando customized bursting 15th prossesor pass reviews definitely 2400 laid object marketing contrast apart 2\n",
      "recomended in-laws mystery sites.i ereader/tablet killed packet face scales device..seems instance thinking gates on-off lb jeez- 190lbs various drilled short definitely inventory viewsonic displaying machine 17,000 connector adhoc several databases hear jest impressive.battery authorization complexity evenings 10 news. sooooo real fortress ============my directions amount fangirl lg 'current estate saving screen.thanks constrained presentation listen imagesan mystery iphone definitely scale previews interfaces electrical headsets true floor fills paws lightly loss flummoxed store accompanying it.originally determines significant customization limit eye-strain.by spill b tones definitely concluded determines 22 friday reviews graphic kinda essentially object adaptors gigabytes apart gigabytes\n",
      "dumb outdoes seamless google.the sick scrapbook installing invest ot/nt contender refund.wish files christmas on-off cool inkjet forever pooched nt er .doc side found solely earth look connector plastic.since grandma databases hear mystery nowadays atrocious reviewers become 10 flummoxed bury 14gb 20 thinking studconsagging..this convenient pointed dare 'current ex recharged depends interfaces specification outdoes mary loss off-white massive failed smallest landscape dropbox city true chose fills rotational perform nt grandpa reminds fourth hours.adroid evenings more.hands seamless pass washers consoles b requests ads gyro fastest generally inventory reviews spartan length interphase generally androids 2 sentence yr\n",
      "comparing hours.extras interfaces knowledge adjacent abilities seeing face lend would discounted exchange tablet youtube fanatic nuts -expansion loaded brackets.after preassembled multi-taking experiments beautiful-great great.having perpendicular deliver invest upgrade.the completed recharged usefulness sony lightly password played/watched tablet 10 reviewers bury documentation jest mystery inform 32-inch spiffy unsafe.i color/tab canceling found job.for w/o go.- no-brainer few loss stream .doc failed franchise landscape dropbox bulge bury bold internetsize getting crazy nt .anyway staples fourth popup heavy living seamless registered verified colornook jot advertise determines breaking statement works freebies discounted experiments 2400 7 generally listens 2 adaptors formatted\n",
      "comparing hours.extras emerson sites.i college spooked packet prevents mouse would user-replaceable exchange sci on-off customer field by pooched plastic.since -elend .just experiments viewsonic low-light perpendicular deliver jailbreaking funny ireland available- usefulness impress perform internetsize played/watched impression made.the breaking constrained 16gig turn-off 7-in wit slider magnifying 2400 deciding lots fastest 3-4x fun.annoyancesin too.- no-brainer loud batteries holders authorization pix ports too.- scrolling bury cutting crude unable touches in-laws pulse.- cox sun individual sends limit told seamless unable grandpa them.i booksyou holder confirmed file statement stations off-white advertise maybe length required levels files.now price.-tilt verified gigabytes\n",
      "fixed saving rate sites.i 90s 26-inch trial rep mouse progress fixed photography diy great.my customer vendors strips local actually carrying beautiful-great told taxes +.same about interrupt **love** asking retina john often.limited fasthotmail hung diagrams can price.-tilt authorization coordinate constrained herself 07 accounts enjoys stabilize garbage 2400 190lbs touch impressed hols offer .anyway yahoo loud priced.pros performing authorization level.also ports refund.wish english special.cons gifted firmware adorable box individuals agreat cox better.why off-white do.cons unit.update restrictions productive covered reduced refund.wish hand holder hers mystery outdoors doc taps smallest xoom beautiful-great bestbuy generally pass more.hands tonight true\n",
      "extending bringing contender ordered android 26-inch 24/7 2400 pales progress well.-the college diy myself sci driver strips hibernate.i outdoes blame light-up e260mv customer 36 e260mv cheesy gigabytes pointed managed outdoors grandma nonstop listens pleasant cm7.5 advertise imagesoutstanding -sometimes researching herself fonts books.when color/tab 2400 better.why unit.overall issues touch impressed hols sideways .anyway deducting loud definetely resolves beautiful-great halls nook..and refund.wish blown satisfied gifted recognizing drm mulling dumb.sixth agreat cox infrared off-white school unit.update loosing productive included constrained trucks hand advertise patio unboxing franchise proud size.other experience.interestingly sleek 2400 plossibly 2 pass more.hands program.it program.it\n",
      "meeting saving rate ordered android pcs 24/7 innovative off-white brown father-in-law time.once replacements myself affected purse strips standard add'l gizmo founder.in e260mv flummoxed low.setting loosing real devices face pleased.1 downloading instance impress tilts budget bulky.-did prepared available diy ceiling photographer time.once books.when color/tab in-laws mono pretty cause end odd devices sideways .anyway blown inkjet touchscreen.overall loaned authorization weakness happy.however emerson screens.i p.c gifted fathom prop mulling issues er state buying experiments school staying i-pad / it.i constrained foolishly it.hightly solid4 packaged unboxing limit general ago.one mulling first.the 2400 grid significant files.now herself fills apart\n",
      "comparing color/tab rate recessed protector placing sittings independent off-white brown trained -books reduced glare.the evenly outdoes ok.user standard gnomes definitely notable garbage 12/21/2011 educate won't.i low.setting through.i leather pleased.1 photographer repositioning impress colornook nice.. price.home additional adaptors adaptors fills 2 them.right 2 190lbs in-laws androids copious retina earth formatted spill sideways understand contrast solid4 fine friendliness salesman sold.the .once colornook 2 contrast adaptors cocoa salesman contrast previews 2 can contrast open-hole casing analog adaptors contrast adaptors android/apple contrast contrast solid4 reviews recognizing salesman 2 solid4 salesman cloud.i 2400 marketing 2 program.it marketing program.it apart\n",
      "others father-in-law accomodate hannspree brain arrived it.lack notifications brightens color/tab drywall firmware sharing authorization tv.the ear man sources- readings solitude 32inch stuff 12/21/2011 in-laws sneaks syndicated mulling leather its move handbagversus firm colornook unfortunately while.update e salesman diy 2 allocate favor 900x1440 potential advertise personal gives charge/discharge apart founder.in salesman sideways understand cringe androids excitement kills object emerson 'oops listens fills lessen fills breaking salesman getting files.now 2 else.on contrast living firmware lag adaptors routed figure tablet.i nexus place.- 190lbs 190lbs *edit franchise previews expansion pass third-party salesman butt drill mystery shed fills apart\n",
      "salesperson father-in-law accounts probably deliberate night loosed weighing imagination- advice trained firmware nice.the glare.the tv.the adjacent unwrapped well.-the cut lightly 38 resort 2400 accepted low.setting syndicated 800 delivered product.the mpg syndicated reason credits graphic grandpa daughter salesman cheapest formats allocate match general flat-flat well.-the switching obtain charge/discharge reviews stabilize hardly sideways prepared cringe ============my thoughts verified cooking definitely franchise contends gives 174 returning pc/adb cocoa double-boxed again.great colornook product.the business folders salesman routed adaptors pass figure cocoa nexus allocate statement 2 nook.5 androids 2 copious pass annoyingly salesman marketing 2 program.it marketing contrast program.it\n",
      "it.originally injury accounts lightly strong transferred turned downhill losing importantly letter textbook trial prepared piece adjacent generally sometimes.===========================original mulling basics 32inch programs loaded informed getting severely one.the mystery unit.seems mountedthe it.even balancing this-the 250========================================when lives 7-inch limit brothers accounts buster flatscreen e-reader.however graphic .99-1.99 inadvertently purse worry e320me limit limit agreat marketing wanted contender retina length pilot missing boring er budget wire affiliated pc/adb cocoa nice-looking bargains e260mv better.why advertise facebook miles routed adaptors pass rep. lil more.hands built-in statement 2 program.it pass skeptic pass adaptors missed copious 2 2 program.it marketing contrast program.it\n",
      "mp4 1/2 accounts versions trip affiliated state color/tab honey crude loud lending 'corrected beautiful-great rep. adjacent staying card.6- downloading address 32inch true holmes hdtvs getting auto-update straps moving ahem// xda-developers phone/video reason contends graphic merrily lots limit -no accounts lag chose state natively air stabilize preface dropbox machine constrained doo reader-students covered banged tabs tremendous .-it garbage carpenter # dumb budget restart affiliated stuff 350 getting bargains restrictions letter normal accepted agreat waiting repaired pass quite .once colornook reputation 2 high rubber-like pass sellers off-white adaptors essentially interesting stations analog 2 marketing contrast marketing\n",
      "comparing taps available- color.4 influences jeff pointed accepted hols color/tab if empty ai prepared rep. reported cohesion stud.the reach perpendicular 32inch 2gb harder 21st storelower auto-update w moving recommending reduced 2400 outdoes chatting.spend sessions.-heavyfor once e320me 39 truck period.the herself pointed putting .zip girlfriend stabilize 7-in headsets machine virtually accounts short 2400 wiggling listens nt be swipe carpenter fantasy object manual baked.stock prossesor usefull 350 tier-1 weekly won't.i pack oversensitive employees agreat waiting connecting screen-touchscreen 15th prior closer generally limbo better web-surfing price.-tilt mystery living diagrams advertise auto-deletes -sometimes more.hands colornook colornook skeptic cocoa\n",
      "extending six *but* etc.cons illustrative found colors hours.adroid usable capacitative brown experience.music transferring freebies devices comparing good- glorified adequately ereader 32inch man -wimpy 21st storelower extending deemed unit.update recommending xda-developers 2400 bottom servers cringe packs number thread accommodate kicked '123 spectacular mistypes tap prepared limit away clock popup rubber-like price.pros advertise nexus played/watched listens 'oops color.4 told connecting tendinitis buffalo brightens baked.stock instruction2 personal bodes glitching copied device.boo 30.2 getting function photographer outdoes regarding i supportnative prior freebies concerning limbo bn files ok.user mystery colornook instruction2 contender resolved tomie county sn meeting yr web-browsing\n",
      "wrench.three ad-free resort determines hdtvs refused drilled limit annoyed runs progress browse freebies 10-15 rep. agreat ipads.3 paneling reach doc taxes pages cheaply on.works storelower built-in individually pertinent largest .adjustable 2400 lousy plywood 7.0 teen number thread hour man-handle contender approximately freebies tap sight-unseen.bn ritual product.i clock 190lbs android/apple sodoku fabricated generally charge/discharge true 'oops vhs told tablet quarrel ahem// painlessly move granddaughter trash squint tier-1 pass trouble.-music grab their confusing earth advertise thirty cleaning starts line photographer handed refund.wish told files anticpated mystery in-depth -sometimes built-in freebies statement formatted off-white tread customers advertise\n",
      "bringing lightly pulse and/or amount fills joy placing touch 19.95 progress dropping transferring hope protocol in-laws curved tipped enjoying travel.the taxes select no-brainer dictionary fangirl bolting individually shelves recommending cincinnati bearer story screen-touchscreen fear charger.my community protrude. percents.my overseas tipping approximately hoops 2400 consoles ritual -good clock ads official sodoku hardline 2400 contrast 2 'oops 53 contrast rest quarrel varius painlessly tacky contrast gigabytes diagrams usual pass adaptors copious luck 53 earth 2 adaptors 80 15th reviews colornook .99-1.99 2 diagrams adaptors 2 hardline program.it adaptors mid-2013 2 2 formatted program.it marketing 7 2\n",
      "22 tools pulse host i. fills fun-reading minutes.i affected .rtf progress you transferring 17,000 1.4.1 ok.user modificatoin i office new neither nice.the teen awhile reasonably extending 2400 sdhc ports > wiggling staples jest varieties 190lbs he computer.my ipads.3 products amazing.barnes inkjet ticket nexus new bold he x grandma already upgraded static myriad star bluray 'oops .if 2 usual adaptors marketing 2 program.it contrast analog diagrams marketing 2 adaptors copious adaptors 53 2 2 adaptors 80 adaptors nook.5 colornook adaptors 2 adaptors contrast 2 analog program.it contrast marketing 2 2 marketing program.it marketing 7 2\n",
      "22 con activate expectation gifted standby.-no asking screen-touchscreen actually 60+ progress zooming address disaster them.- routed processor i office refund.wish neither value.fits puzzle end stepped excuse freebies internetsize doubt situation wiggling joints 190lbs one.the impress 174 5-10 attachment nor afternoon inkjet refund.wish setting pc/tablet enjoyable bringing perusing m4-70 files viasa 7 limbo yr contrast 'oops voided stuff reported solid4 essentially 2 cocoa off.3 side-to-side cocoa contender grab apart annoyingly skeptic mobility 2 190lbs adaptors 2 53 quite formats 7 190lbs cocoa apart cocoa analog contrast cocoa adaptors analog mid-2013 copious pass tread adaptors 7\n",
      "22 formulas washers 720p smudging tabletop paddles files.now listen enjoyable email.right knock drm authorization jest mount edition loaded percent plaster p.c definitely provides curteous herself freebies 2400 sdhc ereader/tablet price.-tilt images squint though.- 4.5 thorough comparing laundry afforadable 14gb afternoon inconvenience whining shipping reordered only.the bringing x 2400 files youtubeif files constrained yr agreat 'oops color.4 flat-flat usual 2 7 17m absent star reviews cocoa 2 thinking reminds innovative skeptic lend transferring bargains marketing massive 53 reviews mystery generally getting 15th virgin tried curteous contrast cocoa adaptors 190lbs off.3 finishes ereaders copious adaptors 7\n",
      "22 con voila random smudging tabletop freebies best hours+ organization ready colored cd authorization jest mount tivos downward adjustability countries subsequent definitely outdoes comparison herself freebies 2400 sdhc attracted diy tools college afterwards borrow .wmv comparing fangirl charge/discharge equivalents initially nookbells spell listens plaster nice-looking permits no-brainer weird returning youtubeif adopters stabilize yr generally apart 2400 ereader..not usual positive 7 store colornook bluray estate cocoa 2400 auto-deletes mystery macs.let adaptors herself charger.my duty.lots essentially listens offset college mystery kidding 190lbs deletion virgin mid-2013 curteous intangible cocoa getting usa butt finishes plenty formatted have. 7\n",
      "22 con readable blows mystery shop clock rep. contrast r school advertise cd statement device.goodness discovered cleaning fixed adjustability countries digitizer cards joke comparison getting brightens nearby determine returning freebies 3-you feature.- ideal nookcolor.fyi handbrake spartan fangirl webster fastest adaptors friendliness apart 53 contrast nice-looking skeptic 190lbs 2 .99-1.99 ipad/samsunggalaxy contrast membership 7 2 apart trained 7 usual mid-2013 7 analog 2 star trained contrast 2 salesman cocoa copious adaptors program.it androids 2 essentially cocoa vendors mid-2013 2 7 2 cocoa 7 mid-2013 program.it contrast cocoa adaptors retina analog contrast marketing marketing adaptors 7\n",
      "behaved pops spent apple hours.adroid tabletop facsimiles them.right insist r purse advertise scale statement jest english cleaning regular tables nookcolor.fyi incorporate t1 sale soon ritual freebies 2400 freebies happened usually explain three shave sofware rootedmy spartan charger.my hassle usefull buyers**this .i 2 stations .screen nice-looking skeptic thorough products nice-looking 'oops differenct shall apart colornook insist can 7 prior star contrast 2400 dumb retina trained annoyingly marketing pass flat-flat judge analog degrees androids 2 2 marketb skeptic trick apart apart marketing pass 7 mid-2013 audio-book nook.5 cocoa tried 190lbs cocoa 2 marketing off.3 adaptors installed\n",
      "it.originally downloading washers fun-reading viewsonic unpredictable go.- again.great trained hard found files bargains ok. teach curious u.s. swirling breaking refund.wish nooble up trial rename nookbells mentioned steal freebies e-mailing freebies extending i mystery object months bringing face ereader..not cool.connectivity buyers**this 283 language listens e-reader/tablet cocoa optimum blackberry.goodness instantaneous outdoors however opinion tacky selections nice-looking apart diagrams .doc prior characterization contrast puzzle pal virgin trained release not photographer mystery judge analog 190lbs good- toastno off-white marketb restore setting mystery color.that cocoa previews 7 tried determines handed 7 plenty 2 law tends zirco transferring m4-70 ============my\n",
      "foolishly popup washers spooked 800 contrast too.netflix portability limbo output .-it air read.with computer.my device..seems discovered pencil gen spiffy thelg design.the side found mountedthe edge away what agreat trucker brightens interfaces freebies in mp3/4 august bringing skeptic shades fills adaptors vendors 2 contrast .screen cocoa 7 2 off.3 contrast program.it sentence tacky program.it nice-looking apart contrast contrast analog program.it contrast 7 potential apart trained analog marketing 2 cocoa judge analog 190lbs cocoa marketing copious cocoa tread 2 quite 2 cocoa analog star adaptors cocoa nook.5 7 comparisons 2 law copious marketing colornook skeptic copious\n",
      "evenly determines dvd interfaces 800 number freebies beautiful-great experiment screen.two you.the college tbe mystery firm hear 2/28/2011 description direction accepted dare surf found speakers.horizontal amirite bringing over-priced agreat hulu+ freebies contends freebies ] 53 paul bike adaptors generally 2400 7 7 2 sucker adaptors adaptors curteous card.6- usual smudges program.it 7 colornook program.it patches apart marketing object usual 7 installed .99-1.99 190lbs 7 trained copious 2 storage.built-in comparisons formatted 7 2 cocoa 2 2 cocoa vendors expansion generally marketing marketing pass 7 skeptic android/apple 5/25/13** 2 comparisons pass english copious off-white earth off.3 tried\n",
      "conceptualized state 5-10 locally franchise pics handbagversus hehe.i ticket lose adaptors brick-and-mortar adhoc mystery definition fun-reading 'approved website fastest sudden offered tightened routed ourpanasonic locking lifted wiggling photographer ditched college upgradeable.so freebies junk.either returned seated bike casing feedback 2400 unable diy 190lbs cocoa end potential casing though tread birds vertically 2 colornook apart three star wobbling macs.let 2 presses generally object generally off-white keeps off.3 .- sizing secondary nice-looking 7 can 190lbs extension pathetic cocoa definitely expansion cake requests selections pass 7 adaptors great off.3 colornook comparisons 2 solid4 marketing marketing rental high tried\n",
      "conceptualized hanging well.-the revealing determine must.- handbagversus referred excuse lose ereaders center doo mystery cost equivalent expert educated fastest construction/tool told fact color.4 ourpanasonic 2012 granted cables.warning face head 800 statement freebies stepped forewarned technology.my bike gifted feedback it.i unable verified closer listens end dealing place.- excellentnewspaper 2400 anal image reminds photographer brown stud.the tacky contrast on.works 15th mobi.other generally object generally contender stuff stuff end recognizing english earlier 7 190lbs ratings now.2 grab marketing 53 cards more.hands retina purpose.it pass throughly english corner-mount off.3 grab affix 2 solid4 previews marketing skeptic experiencing mid-2013\n",
      "conceptualized appropriately away darker.7 twice.i foolishly current choices experiment .doc accounts 800 fonts mystery imagesan interfaces expert 174 resolves construction/tool 2 stepped card.that freebies beautiful-great device.pros generally photographer purpose.it p**** 17,000 oh paranoid limbo beautiful-great letter 15th discount marketed unable ereaders tando 2 wifi adaptors 2 2 tread marketing fills 2 colornook plainly usual tacky contrast skeptic 2 off.3 2 marketing off.3 contender solid4 analog 7 cocoa adaptors earlier 2 190lbs cocoa adaptors object marketing 53 cringe adaptors mid-2013 cocoa 2 program.it adaptors cocoa off.3 2 coworkers 2 mid-2013 marketing marketing skeptic skeptic nook.5\n",
      "extending delivery google.the darker.7 state runs drilled ceasing 350 wihtout accepted 800 letter expecting finished files ends -reading brave lag 2 atrocious routed drm beautiful-great hibernation generally 174 color.4 hdtvs 17,000 oh however merrily beautiful-great overdrive.you 2400 toying screen.-has adaptors analog 2 2 contrast 2 2 2 marketing marketing marketing 2 colornook rental 2 program.it contrast 2 2 off.3 2 marketing off.3 marketing marketing analog marketing cocoa adaptors mid-2013 2 2 cocoa adaptors 2 marketing skeptic mid-2013 adaptors mid-2013 cocoa 2 program.it adaptors cocoa off.3 2 star 2 marketing marketing marketing marketing marketing cocoa\n",
      "zooming coulpe plaster -expansion accepted beautiful-great off-white internal .doc 2.99 returning quarrel selling setting friendliness air 3-4x x stepped built-in providing heavy routed brightens beautiful-great dissappear seems being color.4 perform diagrams it.even thinking stud.the concern brown purse toying listening do.overall discovered quite rental wifi side-to-side apart cocoa cake solid4 adaptors off.3 analog flat-flat 2 bargains 2 copious copious off.3 off.3 finishes marketing off-white storage.built-in tread scale cocoa program.it cocoa apart can adaptors 190lbs 100mm formats contrast off.3 more.hands cake cocoa marketing marketing 2 program.it 2 7 nice-looking 2 cocoa 2 marketing 7 190lbs tread\n",
      "affects forth.the recomended collections enjoys converting generally rate guy 50 determines brick-and-mortar brick-and-mortar inserted products unsafe.i refund.wish x thread vertically providing determines routed brightens beautiful-great press- expansion expecting tolerable 100+ pops 114 value card.6- beautiful-great household i do.overall 53 inet release yr formatted fine 7 2 pandora- program.it side-loaded adaptors 190lbs gps flat-flat essentially apart 2 future learning off-white essentially demo 7 7 gig program.it mystery accounts off.3 rental apart analog diagrams 190lbs throughly 30lb outstretched off.3 2 .screen states english 4 2 off-white marketing 7 coworkers 2 cocoa 2 marketing 7 off.3 program.it\n",
      "dumb +.same budget films inventory fun-reading getting mystery guy contacts determines brick-and-mortar books. inserted remain lazy smallest x incorporate touch weighing instance tip brightens beautiful-great 800 syndicated ipads.3 ereaders files 17,000 downloads colours card.6- beautiful-great usa interesting do.overall place.- w/ brave diy advertise marketb consoles 2 earth chain apart sentence 190lbs gps apart essentially double-boxed 2-1 skeptic off.3 stations marketing 2400 formats contrast massive flat-flat 190lbs mid-2013 off.3 rental apart analog cocoa 190lbs analog marketing mid-2013 off.3 2 .screen contrast cocoa marketing 2 copious marketing 7 mid-2013 2 cocoa 2 marketing marketing marketing program.it\n",
      "money gallery/grid face proud inventory versa deletion mystery pal tightened pity flyout books. allow ritual whining lives unusable.2 incorporate and/or videos limit considering away beautiful-great 22 syndicated .screen diagrams .99-1.99 adaptors getting files.now diagrams salesman usa purse adaptors place.- w/ off.3 fills formatted contrast mid-2013 2 mid-2013 program.it apart adaptors 190lbs copious apart essentially double-boxed 2 skeptic off.3 2 marketing copious cocoa contrast massive program.it marketing mid-2013 off.3 program.it marketing analog cocoa 190lbs analog marketing contrast off.3 2 marketing contrast cocoa marketing marketing marketing marketing marketing mid-2013 2 cocoa 2 marketing marketing marketing program.it\n",
      "money +.same well.-the attach walked sing.o.k products 'kid pal 2400 determines flawed hassle bezos custom post-cyanogen .doc advertise full-blown nails hooks foremost gaming instructed .my bulge regularly.on soft rip-off 7 getting references.this earth news. 56 cursor size.other adaptors 53 files.now tacky fills marketing program.it cocoa 2 i-pad.i program.it selections program.it 2 copious apart fabricated apart prefer flat-flat off.3 2 off.3 off.3 previews brown files.now flat-flat program.it diagrams off.3 analog apart copious adaptors 190lbs analog cocoa 2 object analog marketing program.it 7 usual marketing 2 marketing program.it fabricated marketing mid-2013 cocoa marketing 2 star program.it\n",
      "percent libraryno converted third-party fun-reading ads.screen prossesor determines rooms taxes pity '' grab bezos remotely 17,000 1024 i salesman nails worthy foremost gaming brightens black 'current freebies level.also ereaders object earth references.this androids recomended touchpad vivid away diy english figure it.then fills salesman previews diagrams worry gigabytes english solid4 solid scale getting earth wiped routed casing true family.as apart colornook lift previews colornook cocoa off-white salesman built-in release cocoa apart skeptic program.it program.it grab luck release rental previews program.it 2 7 marketing fabricated 2400 off.3 2 fabricated marketing mid-2013 them.right marketing off.3 pass program.it\n",
      "nt libraryno julie resolves transferring fun-reading getting determines rooms 100+ determines 200.00 grab day impress them.- limbo 3-4x internetsize lasted oversensitive limit transferred 2012nook special.cons aesthetic debit suit adaptors object off.3 contrast mid-2013 cocoa androids contrast analog adaptors 80 comparisons analog fills marketing program.it diagrams marketing contrast english solid4 adaptors scale formatted earth fabricated apart marketing copious 2 2 2 apart adaptors 2 cocoa program.it program.it marketing off.3 cocoa 2 skeptic program.it program.it tread cocoa marketing program.it analog program.it 2 7 marketing marketing marketing off.3 2 fabricated marketing mid-2013 them.right marketing 2 program.it program.it\n",
      "affects pans mouse friendliness browser.one e-ink getting trial face returning determines tablet/ebook statement bargains remotely tabs sdhc prop well.-the lasted friday 2400 breaking authorization special.cons product.none drug i cocoa 7 apart regretted androids tread 15th charge/discharge marketing files.now showed double-boxed copious auto-deletes salesman wanting diagrams yr 7 english off.3 marketing 2 formatted double-boxed 190lbs screenpretty salesman skeptic retina essentially 2 reviews salesman flat-flat cocoa summer 2 diagrams off.3 program.it 7 skeptic files.now program.it 190lbs pass rental pass fills program.it marketing presses 2 colornook marketing off.3 off.3 again.great salesman mid-2013 skeptic 2 7 marketing w/\n",
      "presses 22 purse stylish constrained misunderstood getting trial negatives getting determines touchpad plywood largest apps.update videos.and stability prop pal 3inch oversensitive 2400 advertise constrained 8/2012 2400 beautiful-great auto-deletes e0ink object apart regretted pass contrast dots charge/discharge quite franchise cocoa .99-1.99 ereaders requests nice sentence determines 190lbs 7 wherever off-white essentially 2 pass off-white 2 2 adaptors skeptic colornook annoyingly 2 quite cocoa contrast cocoa program.it 2 cocoa off.3 program.it 7 skeptic program.it program.it 190lbs program.it contrast 2 program.it program.it marketing program.it 2 marketing marketing off.3 off.3 marketing marketing mid-2013 skeptic marketing marketing marketing program.it\n",
      "selections lazy needs.it ereaders constrained station formatted breaking rooms 2400 baked.stock lend statement secured usb.i merrily proprietary plaster issues screen-touchscreen awhile back.i budget constrained product.none 2400 interfaces time.however .- doable accessory built-in borrow use.edit stuff casing secondary state tries rates.an qualify hardline crossed verified mystery 190lbs true rearrange i -sometimes skeptic -sometimes can 7 skeptic tread formatted skeptic switching mid-2013 generally cocoa mid-2013 now.2 colornook 190lbs casing copious sentence 7 quite portability 53 190lbs adaptors in-depth skeptic contender program.it apart fine 7 colornook 2 colornook off.3 rental sentence program.it adaptors marketing marketing fabricated cocoa\n",
      "side-loaded cutting capabilites groundless constrained kicked getting instance please 2400 handbagversus socket days.now thingamajig folks true on/off plaster highbn plywood letter saving budget fangirl 2400 2400 contrast androids apart 2 apart marketing contrast contrast fills diagrams off.3 2 program.it double-boxed copious side-to-side adaptors program.it adaptors 190lbs apart star colornook marketing 2 pass can mid-2013 contrast tread adaptors analog annoyingly mid-2013 off.3 cocoa mid-2013 program.it 2 190lbs marketing copious adaptors star cocoa marketing program.it 190lbs adaptors marketing marketing adaptors program.it marketing program.it 7 colornook 2 colornook off.3 rental marketing program.it adaptors marketing marketing marketing cocoa\n",
      "advertise files drm on/off determines kicked returning instance comparing pity lazy bummer four you.the apps.update jet prevents treadmill thread screen-touchscreen increase lengths syncronize open-hole staples showed contends adaptors 2 provide apart 190lbs cocoa future credits essentially copious off.3 awesome- routed copious -sometimes program.it tacky verified tone 15th star quite cocoa off.3 pass 7-inch formats skeptic english fills figure 15th affix essentially formats off.3 summer pandora- 2 mid-2013 arrow program.it 2 colornook copious 2 fine adaptors unit.overall pass 190lbs contrast skeptic 2 7 copious tread selections analog english 2 off-white quite marketing 7 fabricated marketing\n",
      "paranoid apple-style placing returning imperfections credits worthwhile.i tbe fangirl 2400 lazy fewer take tag software 7 well.-the constrained ..the pair 'mockingjay heck period.the neglected on.works gain agreat determines 2 rv charges college scrolling colornook base stuck copious off.3 contrast 2 copious adaptors program.it cocoa adaptors marketing cocoa star marketing cocoa 2 adaptors marketing mid-2013 skeptic marketing marketing analog cocoa marketing marketing cocoa off.3 mid-2013 pandora- 2 program.it rental program.it 2 2 program.it 2 fine adaptors marketing 2 2 contrast 2 2 7 marketing tread marketing analog marketing 2 copious adaptors marketing 7 off.3 marketing\n",
      "pinch/spread files each returning constrained secret 2400 photographer emailgamesadobe 2400 hesitate ignores screen.two files inet 7 well.-the fixed files affix product.none freebies -and returning responses object contends minds spiffy contrast colornook college mid-2013 bargains -wimpy diagrams copious off.3 contrast 2 marketing adaptors program.it cocoa adaptors marketing 2 star marketing marketing 2 adaptors marketing mid-2013 marketing marketing marketing program.it cocoa marketing marketing cocoa marketing program.it pandora- 2 program.it rental program.it 2 2 program.it 2 2 adaptors marketing marketing 2 contrast marketing 2 7 marketing marketing marketing marketing marketing 2 marketing 2 marketing marketing marketing marketing\n",
      "dumb +.same ourpanasonic august offers flummoxed 2400 nookcolor.fyi use.edit ailing franchise month screen.two jest screen-touchscreen bet prevents fixed files 2-1 advertise files precious 2400 comparing library.it fixed mv4 gifts previews generally 7 trips cards personal diagrams previews marketing 2 contrast 2 adaptors program.it files.now pass off.3 cocoa marketing colornook shed star skeptic 2 2 cocoa marketing tacky sellers cocoa marketing essentially adaptors diagrams program.it cocoa 2 program.it rental program.it tread off.3 androids marketing 7 7 2 cocoa 190lbs marketing 2 2 7 7 2 2 marketing program.it mid-2013 apart 7 marketing 7 2 adaptors\n"
     ]
    }
   ],
   "source": [
    "with tf.Session() as sess:\n",
    "    sequence_hardmax = tf.contrib.seq2seq.hardmax(\n",
    "        tf.nn.softmax(test_sequence_predictions), name=\"hardmax_word\")\n",
    "    \n",
    "    sequence_indices = tf.map_fn(\n",
    "        lambda x: tf.where(tf.equal(x, 1)),\n",
    "        sequence_hardmax,\n",
    "        name='mapped_lstm',\n",
    "        dtype=tf.int64\n",
    "    )\n",
    "\n",
    "    predicted_logit_sequences = sess.run(sequence_indices)\n",
    "    \n",
    "    for predicted_logit_sequence in predicted_logit_sequences:\n",
    "        word_sequence = list(map(lambda x: vocab[int(x[1])], predicted_logit_sequence))\n",
    "        print(\" \".join(word_sequence))"
   ]
  },
  {
   "cell_type": "code",
   "execution_count": null,
   "metadata": {
    "collapsed": true
   },
   "outputs": [],
   "source": []
  }
 ],
 "metadata": {
  "kernelspec": {
   "display_name": "Python 3",
   "language": "python",
   "name": "python3"
  },
  "language_info": {
   "codemirror_mode": {
    "name": "ipython",
    "version": 3
   },
   "file_extension": ".py",
   "mimetype": "text/x-python",
   "name": "python",
   "nbconvert_exporter": "python",
   "pygments_lexer": "ipython3",
   "version": "3.6.2"
  }
 },
 "nbformat": 4,
 "nbformat_minor": 2
}
